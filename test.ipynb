{
 "cells": [
  {
   "cell_type": "code",
   "execution_count": 1,
   "source": [
    "import torch\n",
    "import torch.nn as nn\n",
    "\n",
    "\n"
   ],
   "outputs": [],
   "metadata": {}
  },
  {
   "cell_type": "code",
   "execution_count": 9,
   "source": [
    "t = torch\n"
   ],
   "outputs": [
    {
     "output_type": "execute_result",
     "data": {
      "text/plain": [
       "tensor([[[0., 0., 0.],\n",
       "         [0., 0., 0.],\n",
       "         [0., 0., 0.]],\n",
       "\n",
       "        [[0., 0., 0.],\n",
       "         [0., 0., 0.],\n",
       "         [0., 0., 0.]],\n",
       "\n",
       "        [[0., 0., 0.],\n",
       "         [0., 0., 0.],\n",
       "         [0., 0., 0.]]], dtype=torch.float64)"
      ]
     },
     "metadata": {},
     "execution_count": 9
    }
   ],
   "metadata": {}
  },
  {
   "cell_type": "code",
   "execution_count": 5,
   "source": [
    "class DQNNetwork(nn.Module):\n",
    "    def __init__(self, input_shape,fc1_dim, fc2_dim, number_actions, batch_size) -> None:\n",
    "        super(DQNNetwork,self).__init__()\n",
    "        self.batch_size= batch_size\n",
    "\n",
    "        self.net = nn.Sequential(\n",
    "            \n",
    "                nn.Linear(input_shape,fc1_dim),\n",
    "                nn.ReLU(),\n",
    "                nn.Linear(fc1_dim,fc2_dim),\n",
    "                nn.ReLU(), \n",
    "                nn.Linear(fc2_dim, number_actions)\n",
    "            \n",
    "        )\n",
    "    def forward(self,observations):\n",
    "        # observations dimension --> tensor(batch_size,3,32,32)\n",
    "        observations = observations.view(self.batch_size,-1) # 3*32*32\n",
    "        #dimesion (5,3*32*32)\n",
    "        return self.net(observations)"
   ],
   "outputs": [],
   "metadata": {}
  },
  {
   "cell_type": "code",
   "execution_count": 6,
   "source": [
    "model = DQNNetwork(input_shape=256,fc1_dim=256,fc2_dim=256,number_actions=4,batch_size=5)\n",
    "test_input = torch.rand(5,16,16)\n",
    "\n",
    "\n",
    "model(test_input)"
   ],
   "outputs": [
    {
     "output_type": "execute_result",
     "data": {
      "text/plain": [
       "tensor([[ 0.1470,  0.0091, -0.0193, -0.0246],\n",
       "        [ 0.0936, -0.0073,  0.0246, -0.0025],\n",
       "        [ 0.1534,  0.0610,  0.0177,  0.0177],\n",
       "        [ 0.1101,  0.0706,  0.0068, -0.0046],\n",
       "        [ 0.1618,  0.0610,  0.0208,  0.0034]], grad_fn=<AddmmBackward>)"
      ]
     },
     "metadata": {},
     "execution_count": 6
    }
   ],
   "metadata": {}
  },
  {
   "cell_type": "code",
   "execution_count": null,
   "source": [],
   "outputs": [],
   "metadata": {}
  },
  {
   "cell_type": "code",
   "execution_count": 7,
   "source": [
    "criterion = nn.CrossEntropyLoss()"
   ],
   "outputs": [],
   "metadata": {}
  },
  {
   "cell_type": "code",
   "execution_count": 11,
   "source": [
    "inputs = torch.tensor([32,40,100])\n",
    "targets= torch.tensor([0])"
   ],
   "outputs": [],
   "metadata": {}
  },
  {
   "cell_type": "code",
   "execution_count": 1,
   "source": [
    "import numpy as np\n",
    "import torch\n"
   ],
   "outputs": [],
   "metadata": {}
  },
  {
   "cell_type": "code",
   "execution_count": 3,
   "source": [
    "k = np.zeros((4,4))"
   ],
   "outputs": [],
   "metadata": {}
  },
  {
   "cell_type": "code",
   "execution_count": 15,
   "source": [
    "def unpack(t):\n",
    "    return np.zeros((*t.shape,4))"
   ],
   "outputs": [],
   "metadata": {}
  },
  {
   "cell_type": "code",
   "execution_count": 20,
   "source": [
    "np.zeros((3,3),dtype=np.bool8)"
   ],
   "outputs": [
    {
     "output_type": "execute_result",
     "data": {
      "text/plain": [
       "array([[False, False, False],\n",
       "       [False, False, False],\n",
       "       [False, False, False]])"
      ]
     },
     "metadata": {},
     "execution_count": 20
    }
   ],
   "metadata": {}
  }
 ],
 "metadata": {
  "orig_nbformat": 4,
  "language_info": {
   "name": "python",
   "version": "3.8.10",
   "mimetype": "text/x-python",
   "codemirror_mode": {
    "name": "ipython",
    "version": 3
   },
   "pygments_lexer": "ipython3",
   "nbconvert_exporter": "python",
   "file_extension": ".py"
  },
  "kernelspec": {
   "name": "python3",
   "display_name": "Python 3.8.10 64-bit"
  },
  "interpreter": {
   "hash": "56f069e7f80ff7150fb1516d40bbe80842093e730232ba1b152d381f375fd298"
  }
 },
 "nbformat": 4,
 "nbformat_minor": 2
}