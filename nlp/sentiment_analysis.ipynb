{
 "cells": [
  {
   "cell_type": "code",
   "execution_count": null,
   "source": [
    "import torch\n",
    "import matplotlib.pyplot as plt\n",
    "import torchtext\n",
    "from torchtext.data.utils import get_tokenizer\n",
    "from torchtext.vocab import vocab\n",
    "from collections import Counter, defaultdict\n",
    "import nltk\n",
    "from torch.utils.data import DataLoader\n",
    "from torch.nn.utils.rnn import pad_sequence\n",
    "from torchtext.vocab import GloVe\n",
    "\n",
    "from nltk.corpus import twitter_samples"
   ],
   "outputs": [],
   "metadata": {}
  },
  {
   "cell_type": "code",
   "execution_count": null,
   "source": [
    "nltk.download(\"twitter_samples\")"
   ],
   "outputs": [],
   "metadata": {}
  },
  {
   "cell_type": "code",
   "execution_count": null,
   "source": [
    "nltk.download(\"stopwords\")\n"
   ],
   "outputs": [],
   "metadata": {}
  },
  {
   "cell_type": "code",
   "execution_count": null,
   "source": [
    "from nltk.corpus import stopwords\n",
    "from nltk.stem import PorterStemmer\n",
    "from nltk.tokenize import TweetTokenizer\n",
    "\n",
    "import re\n",
    "import string"
   ],
   "outputs": [],
   "metadata": {}
  },
  {
   "cell_type": "code",
   "execution_count": null,
   "source": [
    "#Import the english stop words list from NLTK\n",
    "stopwords_english = stopwords.words('english') \n",
    "\n",
    "('Stop words\\n')\n",
    "print(stopwords_english)\n",
    "\n",
    "print('\\nPunctuation\\n')\n",
    "print(string.punctuation)"
   ],
   "outputs": [],
   "metadata": {}
  },
  {
   "cell_type": "code",
   "execution_count": null,
   "source": [
    "def process_tweet(tweet:str):\n",
    "    # remove old style retweet text \"RT\"\n",
    "    tweet = re.sub(r'^RT[\\s]+', '', tweet)\n",
    "\n",
    "    # remove hyperlinks\n",
    "    tweet = re.sub(r'https?://[^\\s\\n\\r]+', '', tweet)\n",
    "\n",
    "    # remove hashtags\n",
    "    # only removing the hash # sign from the word\n",
    "    tweet = re.sub(r'#', '', tweet)    \n",
    "    tokenizer = TweetTokenizer(preserve_case=False, strip_handles=True,\n",
    "                               reduce_len=True)\n",
    "\n",
    "    # tokenize tweets\n",
    "    tweet_tokens = tokenizer.tokenize(tweet)\n",
    "    tweets_clean = []\n",
    "\n",
    "    for word in tweet_tokens: # Go through every word in your tokens list\n",
    "        if (word not in stopwords_english and  # remove stopwords\n",
    "            word not in string.punctuation):  # remove punctuation\n",
    "            tweets_clean.append(word)\n",
    "    stemmer = PorterStemmer() \n",
    "\n",
    "    # Create an empty list to store the stems\n",
    "    tweets_stem = [] \n",
    "\n",
    "    for word in tweets_clean:\n",
    "        stem_word = stemmer.stem(word)  # stemming word\n",
    "        tweets_stem.append(stem_word)  # append to the list\n",
    "\n",
    "    return tweets_stem"
   ],
   "outputs": [],
   "metadata": {}
  },
  {
   "cell_type": "code",
   "execution_count": null,
   "source": [
    "class TweetDataset(torch.utils.data.Dataset):\n",
    "    def __init__(self, negative_tweets, positive_tweets,vectors=None,tokenize=lambda x:x.split()):\n",
    "        self.tweets = []\n",
    "        if vectors is not None:\n",
    "            self.vocab = torchtext.vocab.vocab(vectors)\n",
    "            self.vocab.append_token(\"<unk>\")\n",
    "            self.vocab.append_token(\"<pad>\")\n",
    "            self.pad_idx = self.vocab[\"<pad>\"]\n",
    "            self.unk_idx = self.vocab[\"<unk>\"]\n",
    "            self.vocab.set_default_index(self.unk_idx)\n",
    "        else:\n",
    "            counter = Counter()\n",
    "        \n",
    "            for p_tweet in positive_tweets:\n",
    "                tokens=tokenize(p_tweet)\n",
    "                counter.update(tokens)\n",
    "                \n",
    "            for n_tweet in negative_tweets:\n",
    "                tokens= tokenize(n_tweet)\n",
    "                counter.update(tokens)\n",
    "            self.vocab = torchtext.vocab.vocab(counter)\n",
    "        \n",
    "\n",
    "        for p_tweet in positive_tweets:\n",
    "            tokens=tokenize(p_tweet)\n",
    "            self.tweets.append((1,self.vocab.forward(tokens)))\n",
    "        for n_tweet in negative_tweets:\n",
    "            tokens= tokenize(n_tweet)\n",
    "            self.tweets.append((0,self.vocab.forward(tokens)))\n",
    "       \n",
    "       \n",
    "    def __getitem__(self, idx):\n",
    "        return self.tweets[idx]\n",
    "    def __len__(self):\n",
    "        return len(self.tweets)\n",
    "        "
   ],
   "outputs": [],
   "metadata": {}
  },
  {
   "cell_type": "code",
   "execution_count": null,
   "source": [
    "positive_tweets = twitter_samples.strings(\"positive_tweets.json\")\n",
    "negative_tweets = twitter_samples.strings(\"negative_tweets.json\")\n",
    "glove_vectors = GloVe()\n",
    "tweet_dataset = TweetDataset(positive_tweets,negative_tweets,glove_vectors.stoi,tokenize=process_tweet)\n",
    "\n",
    "\n",
    "def collate_batch(batch):\n",
    "    # batch in that case is List of batches that contain the elements of the iterator\n",
    "    text_list = []\n",
    "    target_list=[]\n",
    "    for (label,x) in batch:\n",
    "        text_list.append(torch.tensor(x, dtype=torch.int64))\n",
    "        target_list.append(label)\n",
    "    \n",
    "    target_list = torch.tensor(target_list, dtype=torch.int64)\n",
    "    text_list = pad_sequence(text_list, batch_first=True,padding_value=tweet_dataset.pad_idx)\n",
    "    return text_list,target_list\n",
    "    \n",
    "n = len(tweet_dataset)\n",
    "split = 0.8\n",
    "n_train = int(split*n)\n",
    "\n",
    "n_test = n-n_train\n",
    "\n",
    "train_loader = DataLoader(tweet_dataset[0:n_train], batch_size=64, collate_fn=collate_batch,shuffle=True)\n",
    "test_loader = DataLoader(tweet_dataset[n_train:-1] ,batch_size=64,collate_fn=collate_batch,)\n",
    "\n"
   ],
   "outputs": [],
   "metadata": {}
  },
  {
   "cell_type": "code",
   "execution_count": null,
   "source": [
    "class TweetClassification(torch.nn.Module):\n",
    "    def __init__(self,vocab_size, input_size, hidden_size,output_size,bidirectional=True,padding_idx=0,weights=None,dropout=0.5):\n",
    "        super().__init__()\n",
    "        self.input_size = input_size\n",
    "        self.output_size = output_size\n",
    "        self.hidden_size = hidden_size\n",
    "        self.dropout = torch.nn.Dropout(dropout)\n",
    "        if weights is None:\n",
    "            self.embeddings = torch.nn.Embedding(vocab_size,input_size,padding_idx=padding_idx)\n",
    "        else:\n",
    "            # Add two new zero vectors because of unkown and padding idx\n",
    "            weights = torch.cat((torch.zeros(2,self.input_size),weights))\n",
    "            self.embeddings = torch.nn.Embedding.from_pretrained(weights,freeze=True,padding_idx = padding_idx)\n",
    "        self.lstm = torch.nn.LSTM(input_size=input_size,hidden_size=hidden_size, bidirectional=bidirectional,batch_first=True)\n",
    "        if bidirectional:\n",
    "            self.fc = torch.nn.Linear(in_features = 2*hidden_size,out_features=output_size)\n",
    "        else:\n",
    "            self.fc = torch.nn.Linear(in_features = hidden_size,out_features=output_size)\n",
    "    def forward(self, seq):\n",
    "        # batch first sequence seq (batch_size, seq_length)\n",
    "        x = self.embeddings(seq)\n",
    "        x,_ = self.lstm(x)\n",
    "        x = x[:,-1,:]\n",
    "        x=self.dropout(x)\n",
    "        return self.fc(x)\n",
    "\n",
    "\n",
    "        "
   ],
   "outputs": [],
   "metadata": {}
  },
  {
   "cell_type": "code",
   "execution_count": 120,
   "source": [
    "input_size= 300\n",
    "hidden_size = 256\n",
    "vocab_size = len(tweet_dataset.vocab)\n",
    "output_size = 1\n",
    "bidirectional = True\n",
    "\n",
    "crit = torch.nn.BCEWithLogitsLoss()\n",
    "net = TweetClassification(vocab_size,\n",
    "                            input_size,\n",
    "                            hidden_size,\n",
    "                            output_size,\n",
    "                            weights=glove_vectors.vectors,\n",
    "                            padding_idx=tweet_dataset.pad_idx)\n",
    "optim = torch.optim.Adam(net.parameters())\n",
    "EPOCHS=5\n",
    "\n",
    "def test(model, iterator):\n",
    "    model.eval()\n",
    "    epoch_loss = 0\n",
    "    total_acc = 0\n",
    "    total_count = 0\n",
    "\n",
    "    with torch.no_grad():\n",
    "        for idx,batch in enumerate(iterator):\n",
    "            target = batch[1].float()\n",
    "            \n",
    "            logits = net(batch[0]).squeeze()\n",
    "            loss = crit(logits,target)\n",
    "\n",
    "            total_acc += (torch.round(torch.sigmoid(logits)) == target).sum().item()\n",
    "            total_count += len(target)\n",
    "            epoch_loss += loss.item()\n",
    "            \n",
    "        print(f\"Test Loss {epoch_loss/len(iterator):.3f}|  accuracy {total_acc/total_count:8.3f}\")\n",
    "        return epoch_loss/len(iterator)\n",
    "\n",
    "val_losses=[]\n",
    "train_losses=[]\n",
    "\n",
    "for epoch in range(EPOCHS):\n",
    "    epoch_loss = 0\n",
    "    total_acc = 0\n",
    "    total_count = 0\n",
    "    net.train()\n",
    "    for idx, batch in enumerate(train_loader):\n",
    "        target = batch[1].float()\n",
    "        optim.zero_grad()\n",
    "        logits = net(batch[0]).squeeze()\n",
    "        loss = crit(logits,target)\n",
    "       \n",
    "        \n",
    "        loss.backward()\n",
    "        optim.step()\n",
    "        \n",
    "        total_acc += (torch.round(torch.sigmoid(logits)) == target).sum().item()\n",
    "        total_count += len(target)\n",
    "        epoch_loss += loss.item()\n",
    "        if idx % 500 == 0:\n",
    "            print(f\"Loss {epoch_loss/len(train_loader):.3f}|  accuracy {total_acc/total_count:8.3f}\")\n",
    "    train_losses.append(epoch_loss/len(train_loader))\n",
    "    val_losses.append(test(net,test_loader))\n",
    "  \n",
    "        "
   ],
   "outputs": [
    {
     "output_type": "stream",
     "name": "stdout",
     "text": [
      "Loss 0.005|  accuracy    0.625\n",
      "Test Loss 0.172|  accuracy    0.926\n",
      "Loss 0.001|  accuracy    0.953\n",
      "Test Loss 0.083|  accuracy    0.983\n",
      "Loss 0.001|  accuracy    0.969\n",
      "Test Loss 0.055|  accuracy    0.986\n",
      "Loss 0.000|  accuracy    1.000\n",
      "Test Loss 0.063|  accuracy    0.985\n",
      "Loss 0.000|  accuracy    1.000\n",
      "Test Loss 0.071|  accuracy    0.987\n"
     ]
    }
   ],
   "metadata": {}
  },
  {
   "cell_type": "code",
   "execution_count": 119,
   "source": [
    "# Doing the SAME without pre trained weights and using different optimizers\n",
    "plt.plot(val_losses,label=\"Test Loss RMSProp\")\n",
    "plt.plot(train_losses,label=\"Train Loss RMSProp\")\n",
    "plt.legend()"
   ],
   "outputs": [
    {
     "output_type": "execute_result",
     "data": {
      "text/plain": [
       "<matplotlib.legend.Legend at 0x7fe5e8e35eb0>"
      ]
     },
     "metadata": {},
     "execution_count": 119
    },
    {
     "output_type": "display_data",
     "data": {
      "image/png": "[encoded data removed]",
      "text/plain": [
       "<Figure size 432x288 with 1 Axes>"
      ]
     },
     "metadata": {
      "needs_background": "light"
     }
    }
   ],
   "metadata": {}
  },
  {
   "cell_type": "code",
   "execution_count": 121,
   "source": [
    "# Doing the SAME without pre trained weights and using different optimizers\n",
    "plt.plot(val_losses,label=\"Test Loss Adam\")\n",
    "plt.plot(train_losses,label=\"Train Loss Adam\")\n",
    "plt.legend()"
   ],
   "outputs": [
    {
     "output_type": "execute_result",
     "data": {
      "text/plain": [
       "<matplotlib.legend.Legend at 0x7fe209dd3640>"
      ]
     },
     "metadata": {},
     "execution_count": 121
    },
    {
     "output_type": "display_data",
     "data": {
      "image/png": "[encoded data removed]",
      "text/plain": [
       "<Figure size 432x288 with 1 Axes>"
      ]
     },
     "metadata": {
      "needs_background": "light"
     }
    }
   ],
   "metadata": {}
  }
 ],
 "metadata": {
  "orig_nbformat": 4,
  "language_info": {
   "name": "python",
   "version": "3.8.10",
   "mimetype": "text/x-python",
   "codemirror_mode": {
    "name": "ipython",
    "version": 3
   },
   "pygments_lexer": "ipython3",
   "nbconvert_exporter": "python",
   "file_extension": ".py"
  },
  "kernelspec": {
   "name": "python3",
   "display_name": "Python 3.8.10 64-bit ('dl': conda)"
  },
  "interpreter": {
   "hash": "56f069e7f80ff7150fb1516d40bbe80842093e730232ba1b152d381f375fd298"
  }
 },
 "nbformat": 4,
 "nbformat_minor": 2
}