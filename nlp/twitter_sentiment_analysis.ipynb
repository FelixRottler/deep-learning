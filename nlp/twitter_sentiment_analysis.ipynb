{
 "cells": [
  {
   "cell_type": "code",
   "execution_count": 5,
   "metadata": {},
   "outputs": [],
   "source": [
    "import torch\n",
    "import matplotlib.pyplot as plt\n",
    "import torchtext\n",
    "from torchtext.data.utils import get_tokenizer\n",
    "from torchtext.vocab import vocab\n",
    "from collections import Counter, defaultdict\n",
    "import nltk\n",
    "from torch.utils.data import DataLoader\n",
    "from torch.nn.utils.rnn import pad_sequence\n",
    "from torchtext.vocab import GloVe\n",
    "\n",
    "from nltk.corpus import twitter_samples"
   ]
  },
  {
   "cell_type": "code",
   "execution_count": 2,
   "metadata": {},
   "outputs": [
    {
     "name": "stderr",
     "output_type": "stream",
     "text": [
      "[nltk_data] Downloading package twitter_samples to\n",
      "[nltk_data]     /Users/i540927/nltk_data...\n",
      "[nltk_data]   Package twitter_samples is already up-to-date!\n"
     ]
    },
    {
     "data": {
      "text/plain": [
       "True"
      ]
     },
     "execution_count": 2,
     "metadata": {},
     "output_type": "execute_result"
    }
   ],
   "source": [
    "nltk.download(\"twitter_samples\")"
   ]
  },
  {
   "cell_type": "code",
   "execution_count": 3,
   "metadata": {},
   "outputs": [
    {
     "name": "stderr",
     "output_type": "stream",
     "text": [
      "[nltk_data] Downloading package stopwords to\n",
      "[nltk_data]     /Users/i540927/nltk_data...\n",
      "[nltk_data]   Package stopwords is already up-to-date!\n"
     ]
    },
    {
     "data": {
      "text/plain": [
       "True"
      ]
     },
     "execution_count": 3,
     "metadata": {},
     "output_type": "execute_result"
    }
   ],
   "source": [
    "nltk.download(\"stopwords\")"
   ]
  },
  {
   "cell_type": "code",
   "execution_count": 1,
   "metadata": {},
   "outputs": [],
   "source": [
    "from nltk.corpus import stopwords\n",
    "from nltk.stem import PorterStemmer\n",
    "from nltk.tokenize import TweetTokenizer\n",
    "\n",
    "import re\n",
    "import string"
   ]
  },
  {
   "cell_type": "code",
   "execution_count": 2,
   "metadata": {},
   "outputs": [
    {
     "name": "stdout",
     "output_type": "stream",
     "text": [
      "['i', 'me', 'my', 'myself', 'we', 'our', 'ours', 'ourselves', 'you', \"you're\", \"you've\", \"you'll\", \"you'd\", 'your', 'yours', 'yourself', 'yourselves', 'he', 'him', 'his', 'himself', 'she', \"she's\", 'her', 'hers', 'herself', 'it', \"it's\", 'its', 'itself', 'they', 'them', 'their', 'theirs', 'themselves', 'what', 'which', 'who', 'whom', 'this', 'that', \"that'll\", 'these', 'those', 'am', 'is', 'are', 'was', 'were', 'be', 'been', 'being', 'have', 'has', 'had', 'having', 'do', 'does', 'did', 'doing', 'a', 'an', 'the', 'and', 'but', 'if', 'or', 'because', 'as', 'until', 'while', 'of', 'at', 'by', 'for', 'with', 'about', 'against', 'between', 'into', 'through', 'during', 'before', 'after', 'above', 'below', 'to', 'from', 'up', 'down', 'in', 'out', 'on', 'off', 'over', 'under', 'again', 'further', 'then', 'once', 'here', 'there', 'when', 'where', 'why', 'how', 'all', 'any', 'both', 'each', 'few', 'more', 'most', 'other', 'some', 'such', 'no', 'nor', 'not', 'only', 'own', 'same', 'so', 'than', 'too', 'very', 's', 't', 'can', 'will', 'just', 'don', \"don't\", 'should', \"should've\", 'now', 'd', 'll', 'm', 'o', 're', 've', 'y', 'ain', 'aren', \"aren't\", 'couldn', \"couldn't\", 'didn', \"didn't\", 'doesn', \"doesn't\", 'hadn', \"hadn't\", 'hasn', \"hasn't\", 'haven', \"haven't\", 'isn', \"isn't\", 'ma', 'mightn', \"mightn't\", 'mustn', \"mustn't\", 'needn', \"needn't\", 'shan', \"shan't\", 'shouldn', \"shouldn't\", 'wasn', \"wasn't\", 'weren', \"weren't\", 'won', \"won't\", 'wouldn', \"wouldn't\"]\n",
      "\n",
      "Punctuation\n",
      "\n",
      "!\"#$%&'()*+,-./:;<=>?@[\\]^_`{|}~\n"
     ]
    }
   ],
   "source": [
    "#Import the english stop words list from NLTK\n",
    "stopwords_english = stopwords.words('english') \n",
    "\n",
    "('Stop words\\n')\n",
    "print(stopwords_english)\n",
    "\n",
    "print('\\nPunctuation\\n')\n",
    "print(string.punctuation)"
   ]
  },
  {
   "cell_type": "code",
   "execution_count": 6,
   "metadata": {},
   "outputs": [],
   "source": [
    "def process_tweet(tweet:str):\n",
    "    # remove old style retweet text \"RT\"\n",
    "    tweet = re.sub(r'^RT[\\s]+', '', tweet)\n",
    "\n",
    "    # remove hyperlinks\n",
    "    tweet = re.sub(r'https?://[^\\s\\n\\r]+', '', tweet)\n",
    "\n",
    "    # remove hashtags\n",
    "    # only removing the hash # sign from the word\n",
    "    tweet = re.sub(r'#', '', tweet)    \n",
    "    tokenizer = TweetTokenizer(preserve_case=False, strip_handles=True,\n",
    "                               reduce_len=True)\n",
    "\n",
    "    # tokenize tweets\n",
    "    tweet_tokens = tokenizer.tokenize(tweet)\n",
    "    tweets_clean = []\n",
    "\n",
    "    for word in tweet_tokens: # Go through every word in your tokens list\n",
    "        if (word not in stopwords_english and  # remove stopwords\n",
    "            word not in string.punctuation):  # remove punctuation\n",
    "            tweets_clean.append(word)\n",
    "    stemmer = PorterStemmer() \n",
    "\n",
    "    # Create an empty list to store the stems\n",
    "    tweets_stem = [] \n",
    "\n",
    "    for word in tweets_clean:\n",
    "        stem_word = stemmer.stem(word)  # stemming word\n",
    "        tweets_stem.append(stem_word)  # append to the list\n",
    "\n",
    "    return tweets_stem"
   ]
  },
  {
   "cell_type": "code",
   "execution_count": 7,
   "metadata": {},
   "outputs": [],
   "source": [
    "class TweetDataset(torch.utils.data.Dataset):\n",
    "    def __init__(self, positive_tweets, negative_tweets,vectors=None,tokenize=lambda x:x.split(),pad_token=\"<pad>\",unk_token=\"<unk>\"):\n",
    "        self.tweets = []\n",
    "      \n",
    "        specials=[\"<pad>\",\"<unk>\"]\n",
    "\n",
    "        def yield_tokens(data):\n",
    "            for tweet in data:\n",
    "                tokens = tokenize(tweet)\n",
    "                yield tokens\n",
    "            \n",
    "        self.vocab = torchtext.vocab.build_vocab_from_iterator(\n",
    "            yield_tokens(negative_tweets+positive_tweets),\n",
    "            special_first=True,\n",
    "            specials=specials)\n",
    "        self.pad_idx = self.vocab[\"<pad>\"]\n",
    "        self.vocab.set_default_index(self.vocab[\"<unk>\"])\n",
    "        \n",
    "\n",
    "        for p_tweet in positive_tweets:\n",
    "            tokens = tokenize(p_tweet)\n",
    "            self.tweets.append((1, self.vocab.forward(tokens)))\n",
    "        for n_tweet in negative_tweets:\n",
    "            tokens = tokenize(n_tweet)\n",
    "            self.tweets.append((0, self.vocab.forward(tokens)))\n",
    "       \n",
    "       \n",
    "    def __getitem__(self, idx):\n",
    "        return self.tweets[idx]\n",
    "    def __len__(self):\n",
    "        return len(self.tweets)\n",
    "\n",
    "    @staticmethod\n",
    "    def collate_fn(batch):\n",
    "            # batch in that case is List of batches that contain the elements of the iterator\n",
    "        text_list = []\n",
    "        target_list=[]\n",
    "        len_list=[]\n",
    "        \n",
    "        for (label,x) in batch:\n",
    "            x = torch.tensor(x, dtype=torch.int64)\n",
    "            text_list.append(x)  \n",
    "            target_list.append(label)\n",
    "            len_list.append(len(x))\n",
    "\n",
    "        len_list = torch.tensor(len_list,dtype=torch.int64)\n",
    "        sorted_lens, sorted_idx = torch.sort(len_list,descending=True)\n",
    "        target_list = torch.tensor(target_list, dtype=torch.int64)[sorted_idx]\n",
    "        text_list = pad_sequence(text_list, batch_first=True)[sorted_idx]\n",
    "        \n",
    "        return text_list,target_list, sorted_lens\n",
    "        "
   ]
  },
  {
   "cell_type": "code",
   "execution_count": 8,
   "metadata": {},
   "outputs": [],
   "source": [
    "positive_tweets = twitter_samples.strings(\"positive_tweets.json\")\n",
    "negative_tweets = twitter_samples.strings(\"negative_tweets.json\")"
   ]
  },
  {
   "cell_type": "code",
   "execution_count": 9,
   "metadata": {},
   "outputs": [],
   "source": [
    "\n",
    "tweet_dataset = TweetDataset(positive_tweets,negative_tweets,tokenize=process_tweet)\n",
    "\n",
    "\n",
    "n_train = int(0.8*len(tweet_dataset))\n",
    "n_test = len(tweet_dataset)- n_train\n",
    "\n",
    "train_dataset, test_dataset = torch.utils.data.random_split(tweet_dataset,[n_train,n_test])\n",
    "\n",
    "train_loader = DataLoader(train_dataset, batch_size=64, collate_fn=TweetDataset.collate_fn,shuffle=True)\n",
    "test_loader = DataLoader(test_dataset ,batch_size=64,collate_fn=TweetDataset.collate_fn)\n",
    "\n"
   ]
  },
  {
   "cell_type": "code",
   "execution_count": 49,
   "metadata": {},
   "outputs": [
    {
     "name": "stdout",
     "output_type": "stream",
     "text": [
      "torch.Size([64])\n"
     ]
    }
   ],
   "source": [
    "for text,target,lens in train_loader:\n",
    "    print(lens.shape)\n",
    "    break"
   ]
  },
  {
   "cell_type": "code",
   "execution_count": 10,
   "metadata": {},
   "outputs": [],
   "source": [
    "\n",
    "class TweetClassification(torch.nn.Module):\n",
    "    def __init__(self,vocab_size, \n",
    "                        input_size, \n",
    "                        hidden_size,\n",
    "                        output_size,\n",
    "                        bidirectional=True,\n",
    "                        padding_idx=0):\n",
    "        super().__init__()\n",
    "        self.input_size = input_size\n",
    "        self.output_size = output_size\n",
    "        self.hidden_size = hidden_size\n",
    "        self.pad_idx = padding_idx\n",
    "        self.relu = torch.nn.ReLU()\n",
    "       \n",
    "        self.embeddings = torch.nn.Embedding(vocab_size,input_size,padding_idx=padding_idx)\n",
    "        self.lstm = torch.nn.LSTM(input_size=input_size,\n",
    "                                    hidden_size=hidden_size, \n",
    "                                    bidirectional=bidirectional,\n",
    "                                    batch_first=True,\n",
    "                                    dropout=0.3)\n",
    "        if bidirectional:\n",
    "            self.fc = torch.nn.Linear(in_features = 2*hidden_size,out_features=hidden_size)\n",
    "        else:\n",
    "            self.fc = torch.nn.Linear(in_features = hidden_size,out_features=hidden_size)\n",
    "        self.predictor = torch.nn.Linear(in_features=hidden_size, out_features=output_size)\n",
    "\n",
    "    def forward(self, text, text_lengths):\n",
    "        # Text dim = BATCH_SIZE,MAX_SEQ_LEN and text_lengths dim = BATCH_SIZE\n",
    "        # When passing BATCH_SIZE,MAX_SEQ_LEN through the embedding layer then for each value in the sequence we will get a d-dimensional vector\n",
    "        embeddings = self.embeddings(text)\n",
    "        # embeddings dim = BATCH_SIZE, MAX_SEQ_LEN, EMB_DIM\n",
    "\n",
    "        packed_embeddings = torch.nn.utils.rnn.pack_padded_sequence(embeddings, text_lengths, batch_first=True)\n",
    "\n",
    "        # packed_output dim = BATCH_SIZE,MAX_SEQ_LEN, HIDDEN_DIM\n",
    "        # h_n dim = NUM_DIR*NUM_LAYERS,BATCH_SIZE, HIDDEN_DIM\n",
    "        # In case of a BiLSTM it means that we have for each layer and for each BATCH a vector of size HIDDEN_DIM\n",
    "        # Since BiLSTM has two directions it means dim = 2,BATCH_SIZE,HIDDEN_DIM \n",
    "        packed_output,(h_n,_) = self.lstm(packed_embeddings)\n",
    "       \n",
    "       \n",
    "        # To use both directions we concat for all batches all the vectors\n",
    "        # hidden dim= BATCH_SIZE, 2*HIDDEN_SIZE\n",
    "        hidden = torch.cat([h_n[0,:,:],h_n[1,:,:]],dim=1)\n",
    "\n",
    "        # Which can then be passed into the dense layer\n",
    "        output = self.relu(self.fc(hidden))\n",
    "        return self.predictor(output)"
   ]
  },
  {
   "cell_type": "code",
   "execution_count": 13,
   "metadata": {},
   "outputs": [
    {
     "name": "stdout",
     "output_type": "stream",
     "text": [
      "Epoch 0/10\n",
      "----------\n",
      "train Loss: 25.3479 Acc: 0.8031\n",
      "test Loss: 8.7461 Acc: 0.9515\n",
      "Epoch 1/10\n",
      "----------\n",
      "train Loss: 5.6989 Acc: 0.9699\n",
      "test Loss: 4.2340 Acc: 0.9755\n",
      "Epoch 2/10\n",
      "----------\n",
      "train Loss: 2.6198 Acc: 0.9866\n",
      "test Loss: 2.4255 Acc: 0.9865\n",
      "Epoch 3/10\n",
      "----------\n",
      "train Loss: 1.4917 Acc: 0.9935\n",
      "test Loss: 1.7495 Acc: 0.9895\n",
      "Epoch 4/10\n",
      "----------\n",
      "train Loss: 0.9920 Acc: 0.9951\n",
      "test Loss: 1.8436 Acc: 0.9890\n",
      "Epoch 5/10\n",
      "----------\n",
      "train Loss: 0.6555 Acc: 0.9966\n",
      "test Loss: 1.4291 Acc: 0.9905\n",
      "Epoch 6/10\n",
      "----------\n",
      "train Loss: 0.5365 Acc: 0.9978\n",
      "test Loss: 1.3239 Acc: 0.9925\n",
      "Epoch 7/10\n",
      "----------\n",
      "train Loss: 0.3499 Acc: 0.9985\n",
      "test Loss: 1.4089 Acc: 0.9915\n",
      "Epoch 8/10\n",
      "----------\n",
      "train Loss: 0.2673 Acc: 0.9989\n",
      "test Loss: 1.5698 Acc: 0.9910\n",
      "Epoch 9/10\n",
      "----------\n",
      "train Loss: 0.1993 Acc: 0.9991\n",
      "test Loss: 1.6171 Acc: 0.9910\n",
      "\n"
     ]
    }
   ],
   "source": [
    "def train_model(model, dataloaders, criterion, optimizer, device, num_epochs=25):\n",
    "    model.to(device)\n",
    "    accuracy =[]\n",
    "    losses=[]\n",
    "    for epoch in range(num_epochs):\n",
    "        print(f\"Epoch {epoch}/{num_epochs}\")\n",
    "        print(\"-\"*10)\n",
    "\n",
    "        for phase in [\"train\",\"test\"]:\n",
    "            if phase == \"train\":\n",
    "                model.train()\n",
    "            else:\n",
    "                model.eval()\n",
    "            running_loss = 0\n",
    "            running_corrects = 0\n",
    "\n",
    "            for texts,targets,lens in dataloaders[phase]:\n",
    "                optimizer.zero_grad()\n",
    "                with torch.set_grad_enabled(phase == \"train\"):\n",
    "                    x = texts.to(device)\n",
    "                    y = targets.to(device)\n",
    "\n",
    "                    outputs = model(x,lens).squeeze()\n",
    "                    loss = criterion(outputs,y.float())\n",
    "                \n",
    "                    if phase == \"train\":\n",
    "                        loss.backward()\n",
    "                        optimizer.step()\n",
    "\n",
    "                running_loss += loss.item() * x.shape[0]\n",
    "                running_corrects += torch.sum((torch.round(torch.sigmoid(outputs)) ==  y)).item()\n",
    "            epoch_loss = running_loss / len(dataloaders[phase])\n",
    "            epoch_accuracy = running_corrects / len(dataloaders[phase].dataset)\n",
    "            if phase =='test':\n",
    "                losses.append(epoch_loss)\n",
    "                accuracy.append(epoch_accuracy)\n",
    "            print('{} Loss: {:.4f} Acc: {:.4f}'.format(phase, epoch_loss, epoch_accuracy))\n",
    "    print()\n",
    "    return losses, accuracy\n",
    "        \n",
    "input_size= 16\n",
    "hidden_size = 32\n",
    "vocab_size = len(tweet_dataset.vocab)\n",
    "output_size = 1\n",
    "bidirectional = True\n",
    "\n",
    "crit = torch.nn.BCEWithLogitsLoss()\n",
    "net = TweetClassification(vocab_size,\n",
    "                            input_size,\n",
    "                            hidden_size,\n",
    "                            output_size,\n",
    "                            padding_idx=tweet_dataset.pad_idx,\n",
    "                            bidirectional=bidirectional)\n",
    "optim = torch.optim.Adam(net.parameters())\n",
    "\n",
    "EPOCHS = 10\n",
    "dataloaders ={\"train\":train_loader,\"test\":test_loader}\n",
    "device = torch.device(\"cuda\" if torch.cuda.is_available() else 'cpu')\n",
    "losses, accuracy = train_model(net,dataloaders,crit,optim,device,num_epochs=EPOCHS)"
   ]
  },
  {
   "cell_type": "code",
   "execution_count": 28,
   "metadata": {},
   "outputs": [
    {
     "data": {
      "text/plain": [
       "[<matplotlib.lines.Line2D at 0x7f84d1db3760>]"
      ]
     },
     "execution_count": 28,
     "metadata": {},
     "output_type": "execute_result"
    },
    {
     "data": {
      "image/png": "[encoded data removed]",
      "text/plain": [
       "<Figure size 432x288 with 1 Axes>"
      ]
     },
     "metadata": {
      "needs_background": "light"
     },
     "output_type": "display_data"
    }
   ],
   "source": [
    "plt.plot(losses)"
   ]
  },
  {
   "cell_type": "code",
   "execution_count": 31,
   "metadata": {},
   "outputs": [
    {
     "name": "stdout",
     "output_type": "stream",
     "text": [
      "@Uber_Delhi no supercars &amp; now no ice cream in so many Gurgaon locations :-( pls add more locations!\n"
     ]
    },
    {
     "data": {
      "text/plain": [
       "0.0"
      ]
     },
     "execution_count": 31,
     "metadata": {},
     "output_type": "execute_result"
    }
   ],
   "source": [
    "i = 2199\n",
    "\n",
    "print(negative_tweets[i])\n",
    "x=tweet_dataset.vocab.forward(process_tweet(negative_tweets[i]))\n",
    "lens = torch.tensor([len(x)],dtype=torch.int64)\n",
    "x = torch.tensor(x).unsqueeze(0)\n",
    "\n",
    "net.eval()\n",
    "torch.round(torch.sigmoid(net(x,lens))).item()"
   ]
  },
  {
   "cell_type": "markdown",
   "metadata": {},
   "source": [
    "# Sequence autoencoder with Twitter Sentiment Analysis Dataset\n",
    "- uses stacked lstm as encoder and decoder\n",
    "- takes the hidden state of the encoder and uses it as hidden state for each timestep at the decoder\n",
    "- open questions\n",
    "    - can MSELoss be used? (input and output are n-dimensional vectors)\n",
    "    - if not what should the loss be"
   ]
  }
 ],
 "metadata": {
  "interpreter": {
   "hash": "56f069e7f80ff7150fb1516d40bbe80842093e730232ba1b152d381f375fd298"
  },
  "kernelspec": {
   "display_name": "Python 3.8.10 64-bit ('dl': conda)",
   "name": "python3"
  },
  "language_info": {
   "codemirror_mode": {
    "name": "ipython",
    "version": 3
   },
   "file_extension": ".py",
   "mimetype": "text/x-python",
   "name": "python",
   "nbconvert_exporter": "python",
   "pygments_lexer": "ipython3",
   "version": "3.8.10"
  },
  "orig_nbformat": 4
 },
 "nbformat": 4,
 "nbformat_minor": 2
}
