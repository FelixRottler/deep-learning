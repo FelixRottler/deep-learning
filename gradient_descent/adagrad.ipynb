{
 "cells": [
  {
   "cell_type": "markdown",
   "source": [
    "## Adagrad\n",
    "- Momentum and Nesterov Momentum need a fixed Learning Rate that doesnt change during gradient descent\n",
    "- Adagrad adapts the learning rate to parameters and performs smaller updates for parameters with frequently occuring features and bigger updates for infrequent features\n",
    "- intuition: steep slope require smaller but frequent updates while low slops need to make bigger jumps\n",
    "- **well suited for sparse data**\n",
    "- previously an update for all parameters was performed using the same learning rate\n",
    "- update role for each individual parameter $i$ $w_{i,t} = w_{i,t-1} -\\eta * \\nabla_w L(w_{i,t}) $\n",
    "- based on the past squared gradients $G$ the previous formula is adapted to $ w_{i,t} = w_{i,t-1} -\\frac{\\eta}{\\sqrt{G_{ii,t}+epsilon}} * \\nabla_w L(w_{i,t})$\n",
    "- vectorized formula $w_{t} = w_{t-1} -\\frac{\\eta}{\\sqrt{G_{t}+epsilon}} \\odot \\nabla_w L(w_{t})$\n",
    "- bif disadvantage is that the learning rate eventually becomes so small that the algorithm is no longer able to find a better solution \n",
    "\n"
   ],
   "metadata": {}
  },
  {
   "cell_type": "code",
   "execution_count": 20,
   "source": [
    "import numpy as np\n",
    "import matplotlib.pyplot as plt\n",
    "import pickle\n",
    "%matplotlib inline\n"
   ],
   "outputs": [],
   "metadata": {}
  },
  {
   "cell_type": "code",
   "execution_count": 4,
   "source": [
    "def f(x):\n",
    "    \n",
    "    return -x*np.sin(x)\n",
    "def df(f,x,eps=1e-9):\n",
    "    return (f(x+eps)-f(x-eps))/ (2*eps)\n",
    "\n",
    "def plot(f,x_min=-1,x_max=1):\n",
    "    x = np.linspace(x_min,x_max,100)\n",
    "    plt.plot(x,f(np.array(x)))\n",
    "def plot_gradients(x,f,label):\n",
    "    plt.scatter(x,f(np.array(x)),label=label)\n",
    "    for i,xi in enumerate(x):\n",
    "        plt.annotate(f\"x{i}\",(xi,f(xi)),(xi,f(xi)+0.15))"
   ],
   "outputs": [],
   "metadata": {}
  },
  {
   "cell_type": "code",
   "execution_count": 22,
   "source": [
    "EPOCHS = 5\n",
    "w = 5\n",
    "\n",
    "gradients = [w]\n",
    "\n",
    "learning_rate = 0.8\n",
    "G=0\n",
    "\n",
    "for epoch in range(EPOCHS):\n",
    "    g = df(f,w)\n",
    "    G += g**2\n",
    "    w -= (learning_rate/np.sqrt(G+1e-8)) * g\n",
    "   \n",
    "    gradients.append(w)\n",
    "plot(f,0,10)\n",
    "plot_gradients(gradients,f,\"Adagrad\")\n",
    "\n",
    "plt.legend()\n"
   ],
   "outputs": [
    {
     "output_type": "execute_result",
     "data": {
      "text/plain": [
       "<matplotlib.legend.Legend at 0x7fb6545b7460>"
      ]
     },
     "metadata": {},
     "execution_count": 22
    },
    {
     "output_type": "display_data",
     "data": {
      "image/png": "[encoded data removed]",
      "text/plain": [
       "<Figure size 432x288 with 1 Axes>"
      ]
     },
     "metadata": {
      "needs_background": "light"
     }
    }
   ],
   "metadata": {}
  },
  {
   "cell_type": "code",
   "execution_count": 23,
   "source": [
    "with open(\"sgd_adagrad.pkl\",\"wb\") as f:\n",
    "    pickle.dump(gradients,f)"
   ],
   "outputs": [],
   "metadata": {}
  }
 ],
 "metadata": {
  "orig_nbformat": 4,
  "language_info": {
   "name": "python",
   "version": "3.8.10",
   "mimetype": "text/x-python",
   "codemirror_mode": {
    "name": "ipython",
    "version": 3
   },
   "pygments_lexer": "ipython3",
   "nbconvert_exporter": "python",
   "file_extension": ".py"
  },
  "kernelspec": {
   "name": "python3",
   "display_name": "Python 3.8.10 64-bit ('dl': conda)"
  },
  "interpreter": {
   "hash": "56f069e7f80ff7150fb1516d40bbe80842093e730232ba1b152d381f375fd298"
  }
 },
 "nbformat": 4,
 "nbformat_minor": 2
}